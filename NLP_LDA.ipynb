{
 "cells": [
  {
   "cell_type": "code",
   "execution_count": 73,
   "metadata": {},
   "outputs": [],
   "source": [
    "from bs4 import BeautifulSoup\n",
    "import requests\n",
    "import spacy\n",
    "from spacy.matcher import Matcher\n",
    "import re\n",
    "from collections import Counter\n",
    "from gensim import corpora\n",
    "\n",
    "\n",
    "\n",
    "nlp = spacy.load('en_core_web_sm')"
   ]
  },
  {
   "cell_type": "code",
   "execution_count": 74,
   "metadata": {},
   "outputs": [],
   "source": [
    "url = 'https://imn.ie/ireland-could-be-a-leader-in-clinical-trials-expert-claims/'\n",
    "req = requests.get(url)"
   ]
  },
  {
   "cell_type": "code",
   "execution_count": 75,
   "metadata": {},
   "outputs": [],
   "source": [
    "html = req.text"
   ]
  },
  {
   "cell_type": "code",
   "execution_count": 76,
   "metadata": {},
   "outputs": [],
   "source": [
    "soup = BeautifulSoup(html,'html.parser')"
   ]
  },
  {
   "cell_type": "code",
   "execution_count": 77,
   "metadata": {},
   "outputs": [],
   "source": [
    "text = soup.findAll('p')\n",
    "\n"
   ]
  },
  {
   "cell_type": "code",
   "execution_count": 94,
   "metadata": {},
   "outputs": [
    {
     "name": "stdout",
     "output_type": "stream",
     "text": [
      "Emty spaces removed and joined from 'clean' list: \n",
      "\n",
      ",()[].,, ,“,”..,..,,,.“,”.“,”.,(),,, .,, ’().’’-,. \n",
      "*\n",
      "\n",
      "\n",
      "\n",
      ",,.\n",
      "\n",
      "©.||||\n",
      "\n",
      "Final result: \n",
      "\n",
      " ['Ireland can have a lead role for clinical trials in Europe the Irish Pharmaceutical Healthcare Association IPHA told a conference today Monday ahead of International Clinical Trials Week', 'Speaking at an event hosted in the Mansion House Dublin Dr Itziar Canamasassaid All of the key stakeholders including industry must actively collaborative together to realise our shared ambition to make Ireland a leading location for clinical trials', 'The results of an IPHA survey presented today show that it takes an average of eight months to recruit the first patient into a clinical trial in Ireland That figure is based on 90 trials set up between 2013 and 2018 spanning 11 therapy areas and all four phases of the clinical development process The measure is based on the number of calendar days required to recruit the initial patient from the date the company submits to a Recognised Ethics Committee By comparison other countries such as Denmark take just six months to complete the same process', 'Ireland can have a lead role for clinical trials in Europe said Dr Canamasas We can draw on our strong base of international pharmaceutical companies and highly regarded healthcare professionals who are experts in managing clinical trials together with a supportive public policy environment she added', 'In light of the findings of this survery the IPHA has called for the standardisation of site contracts the Clinical Trial Agreement which will shorten delays and save on legal fees for both hospitals and companies protected research time for clinicians and hospital staffrealistic and achievable targets for clinical trials', 'IPHA has welcomed the impending implementation of the Clinical Trial Regulation and new ways of identifying and recruiting patients in addition toIrelands recent decision to join the European Clinical Research Infrastructure Network ECRIN', 'The IPHA shares the Governments hope that Irelands membership with ECRIN will help Ireland to take on the country sponsor role for more panEuropean clinical trials which would ultimately benefit Irish patients']\n"
     ]
    }
   ],
   "source": [
    "# putting the text of each \"p tag\" into \"paragraphs\" list\n",
    "paragraphs = []\n",
    "for x in text:\n",
    "    paragraphs.append(str(x.text))\n",
    "# puting all alphanumerics from each paragraphs into \"clean\" list  \n",
    "clean = []\n",
    "for w in paragraphs[:]:\n",
    "    clean.append(re.findall(r'\\W',w))\n",
    "# joining all alphanumerics from \"clean\" into \"joined\"\n",
    "joined = []\n",
    "for alpha in clean:\n",
    "    # convert each item in the list to a string, and then join them\n",
    "    joined.append(' '.join(map(str, alpha)))\n",
    "alljoined = ''.join(joined)\n",
    "# removing all emty spaces from the \"alljoined\" string\n",
    "print(\"Emty spaces removed and joined from 'clean' list: \" + \"\\n\\n\" + alljoined.replace(\" \",\"\") + \"\\n\")\n",
    "\n",
    "# cleaning each paragraphs with the \"clean\" list\n",
    "cleared = []\n",
    "for item in paragraphs[:]:\n",
    "    for c in alljoined.replace(\" \",\"\"):\n",
    "        if c in item:\n",
    "            item = item.replace(c, \"\")\n",
    "    cleared.append(item) \n",
    "    \n",
    "# clearing out empty items from the \"cleared\" list\n",
    "none_spaces = [item for item in cleared if item != '' and item !=' ']\n",
    "# removing unnecessary paragraphs\n",
    "none_spaces.pop(9)\n",
    "none_spaces.pop(8)\n",
    "none_spaces.pop(7)\n",
    "\n",
    "print(\"Final result: \\n\\n \" + str(none_spaces))\n",
    "\n",
    "\n",
    "      "
   ]
  },
  {
   "cell_type": "code",
   "execution_count": 33,
   "metadata": {},
   "outputs": [],
   "source": [
    "document = ''\n",
    "for t in none_spaces:\n",
    "    document += t.lower()\n",
    "   \n"
   ]
  },
  {
   "cell_type": "code",
   "execution_count": 34,
   "metadata": {},
   "outputs": [],
   "source": [
    "doc =nlp(document)\n",
    "nlp.Defaults.stop_words.add('the')\n",
    "nlp.Defaults.stop_words.add('by')\n",
    "nlp.Defaults.stop_words.add('that')\n",
    "nlp.Defaults.stop_words.add('That')\n",
    "nlp.Defaults.stop_words.add('The')\n",
    "nlp.Defaults.stop_words.add('All')"
   ]
  },
  {
   "cell_type": "code",
   "execution_count": 110,
   "metadata": {},
   "outputs": [
    {
     "name": "stdout",
     "output_type": "stream",
     "text": [
      "[['ireland', 'lead', 'role', 'clinical', 'trial', 'europe', 'irish', 'pharmaceutical', 'healthcare', 'ipha', 'today', 'international', 'clinical', 'trial'], ['dr', 'share', 'ireland', 'lead', 'clinical', 'trial'], ['ipha', 'today', 'month', 'recruit', 'patient', 'clinical', 'trial', 'ireland', 'base', 'trial', 'clinical', 'process', 'base', 'recruit', 'patient', 'company', 'country', 'month', 'process'], ['ireland', 'lead', 'role', 'clinical', 'trial', 'europe', 'dr', 'base', 'international', 'pharmaceutical', 'company', 'healthcare', 'clinical', 'trial'], ['ipha', 'clinical', 'trial', 'hospital', 'company', 'research', 'hospital', 'clinical', 'trial'], ['ipha', 'clinical', 'trial', 'recruit', 'patient', 'clinical', 'research', 'ecrin'], ['ipha', 'share', 'ireland', 'ecrin', 'ireland', 'country', 'role', 'clinical', 'trial', 'irish', 'patient']]\n"
     ]
    }
   ],
   "source": [
    "from gensim.parsing.preprocessing import remove_stopwords\n",
    "from gensim import corpora\n",
    "from collections import defaultdict\n",
    "from gensim import models\n",
    "from gensim.utils import lemmatize\n",
    "\n",
    "\n",
    "paragraph_list = []\n",
    "# Removing stopwords from \"none_spaces\" list into \"paragraph_list\".\n",
    "for tx in none_spaces:\n",
    "    clear_stop_words = remove_stopwords(tx.lower())\n",
    "    token_paragraph =  nlp(clear_stop_words)\n",
    "    text = []\n",
    "    for token in token_paragraph:\n",
    "        text.append(token.lemma_)\n",
    "    paragraph_list.append(text)\n",
    "    \n",
    "frequency = defaultdict(int)\n",
    "for text in paragraph_list:\n",
    "    for token in text:\n",
    "        frequency[token] += 1\n",
    "\n",
    "processed_corpus = [[token for token in text if frequency[token] > 1] for text in paragraph_list]\n",
    "\n",
    "print(processed_corpus)\n",
    "    \n",
    "     \n",
    "    \n"
   ]
  },
  {
   "cell_type": "code",
   "execution_count": 111,
   "metadata": {},
   "outputs": [
    {
     "name": "stdout",
     "output_type": "stream",
     "text": [
      "{'clinical': 0, 'europe': 1, 'healthcare': 2, 'international': 3, 'ipha': 4, 'ireland': 5, 'irish': 6, 'lead': 7, 'pharmaceutical': 8, 'role': 9, 'today': 10, 'trial': 11, 'dr': 12, 'share': 13, 'base': 14, 'company': 15, 'country': 16, 'month': 17, 'patient': 18, 'process': 19, 'recruit': 20, 'hospital': 21, 'research': 22, 'ecrin': 23}\n"
     ]
    }
   ],
   "source": [
    "# creating the dictionary for further use\n",
    "dictionary = corpora.Dictionary(processed_corpus)\n",
    "print(dictionary.token2id)"
   ]
  },
  {
   "cell_type": "code",
   "execution_count": 112,
   "metadata": {},
   "outputs": [],
   "source": [
    "# bow = bags of words\n",
    "bow_corpus = [dictionary.doc2bow(text) for text in processed_corpus]\n"
   ]
  },
  {
   "cell_type": "code",
   "execution_count": 113,
   "metadata": {},
   "outputs": [],
   "source": [
    "# Calculating  words frequency\n",
    "# tfidf = Term Frequency Inverse Document Frequency\n",
    "tfidf = models.TfidfModel(bow_corpus)\n",
    "\n",
    "\n",
    "# split the document string\n",
    "words = document.split()\n"
   ]
  },
  {
   "cell_type": "code",
   "execution_count": 115,
   "metadata": {},
   "outputs": [
    {
     "data": {
      "image/png": "[encoded data removed]",
      "text/plain": [
       "<Figure size 432x288 with 1 Axes>"
      ]
     },
     "metadata": {
      "needs_background": "light"
     },
     "output_type": "display_data"
    }
   ],
   "source": [
    "import matplotlib.pyplot as plt\n",
    "tfidf_weighing = tfidf[dictionary.doc2bow(words)]\n",
    "#zipped_list =list(zip(*testList2))\n",
    "\n",
    "#creating parameters for the plot model\n",
    "x_values = []\n",
    "y_values = []\n",
    "for item in tfidf_weighing[:]:\n",
    "    value = list(item)\n",
    "    x_values.append(value[0])\n",
    "    y_values.append(value[1])\n",
    "plot_topics = [] \n",
    "# creating the labels for axis [clinical, healthcare...]\n",
    "for k in dictionary.token2id:\n",
    "    plot_topics.append(k)\n",
    "# designing the plot    \n",
    "plt.xticks(range(24), plot_topics ,rotation='vertical')\n",
    "plt.plot(x_values,y_values)\n",
    "plt.show()\n"
   ]
  },
  {
   "cell_type": "code",
   "execution_count": 119,
   "metadata": {},
   "outputs": [
    {
     "name": "stdout",
     "output_type": "stream",
     "text": [
      "[(0, '0.043*\"clinical\" + 0.042*\"trial\" + 0.042*\"ireland\" + 0.042*\"ipha\" + 0.042*\"lead\" + 0.042*\"dr\" + 0.042*\"base\" + 0.042*\"ecrin\" + 0.042*\"research\" + 0.042*\"role\"'), (1, '0.147*\"ireland\" + 0.101*\"trial\" + 0.101*\"clinical\" + 0.101*\"share\" + 0.055*\"ipha\" + 0.055*\"patient\" + 0.055*\"country\" + 0.055*\"role\" + 0.055*\"irish\" + 0.055*\"ecrin\"'), (2, '0.094*\"month\" + 0.092*\"trial\" + 0.091*\"recruit\" + 0.090*\"process\" + 0.086*\"patient\" + 0.079*\"base\" + 0.065*\"clinical\" + 0.057*\"ireland\" + 0.051*\"ipha\" + 0.050*\"country\"'), (3, '0.128*\"clinical\" + 0.128*\"trial\" + 0.067*\"ireland\" + 0.067*\"healthcare\" + 0.067*\"role\" + 0.067*\"lead\" + 0.067*\"europe\" + 0.067*\"international\" + 0.067*\"pharmaceutical\" + 0.037*\"ipha\"'), (4, '0.182*\"clinical\" + 0.133*\"trial\" + 0.088*\"ipha\" + 0.075*\"research\" + 0.075*\"hospital\" + 0.068*\"patient\" + 0.066*\"recruit\" + 0.055*\"company\" + 0.041*\"ecrin\" + 0.038*\"base\"')]\n"
     ]
    }
   ],
   "source": [
    "from gensim.models.ldamodel import LdaModel\n",
    "\n",
    "lda_model = LdaModel(corpus=bow_corpus, id2word=dictionary,  num_topics=5)\n",
    "print(lda_model.show_topics())"
   ]
  },
  {
   "cell_type": "code",
   "execution_count": 120,
   "metadata": {},
   "outputs": [
    {
     "name": "stdout",
     "output_type": "stream",
     "text": [
      "\n",
      "Coherence Score:  0.3175770532327247\n"
     ]
    }
   ],
   "source": [
    "# Calculating the efficiency for the LDA model with c_v measure\n",
    "from gensim.models.coherencemodel import CoherenceModel\n",
    "\n",
    "coherence_model_lda = CoherenceModel(model=lda_model, texts=processed_corpus, dictionary=dictionary, coherence='c_v')\n",
    "coherence_lda = coherence_model_lda.get_coherence()\n",
    "print('\\nCoherence Score: ', coherence_lda)\n"
   ]
  },
  {
   "cell_type": "code",
   "execution_count": null,
   "metadata": {},
   "outputs": [],
   "source": []
  }
 ],
 "metadata": {
  "kernelspec": {
   "display_name": "Python 3",
   "language": "python",
   "name": "python3"
  },
  "language_info": {
   "codemirror_mode": {
    "name": "ipython",
    "version": 3
   },
   "file_extension": ".py",
   "mimetype": "text/x-python",
   "name": "python",
   "nbconvert_exporter": "python",
   "pygments_lexer": "ipython3",
   "version": "3.7.6"
  }
 },
 "nbformat": 4,
 "nbformat_minor": 2
}
